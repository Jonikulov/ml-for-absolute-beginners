{
 "cells": [
  {
   "cell_type": "markdown",
   "id": "cd041c42-b783-41ac-bbd6-6ba96d581f52",
   "metadata": {},
   "source": [
    "# k-Means Clustering\n"
   ]
  },
  {
   "cell_type": "code",
   "execution_count": null,
   "id": "c9ce6bc2-9a41-404e-ba29-99095b4fcc10",
   "metadata": {},
   "outputs": [],
   "source": []
  }
 ],
 "metadata": {
  "kernelspec": {
   "display_name": "Python 3 (ipykernel)",
   "language": "python",
   "name": "python3"
  },
  "language_info": {
   "codemirror_mode": {
    "name": "ipython",
    "version": 3
   },
   "file_extension": ".py",
   "mimetype": "text/x-python",
   "name": "python",
   "nbconvert_exporter": "python",
   "pygments_lexer": "ipython3",
   "version": "3.9.16"
  }
 },
 "nbformat": 4,
 "nbformat_minor": 5
}
