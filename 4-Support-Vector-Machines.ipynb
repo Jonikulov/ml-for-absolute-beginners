{
 "cells": [
  {
   "cell_type": "markdown",
   "id": "cccae7c0-f0bc-4abd-8ddd-c02ef84183ba",
   "metadata": {},
   "source": [
    "# Support Vector Machines"
   ]
  },
  {
   "cell_type": "code",
   "execution_count": null,
   "id": "09947216-34b4-4bd0-b903-9eb965d118d7",
   "metadata": {},
   "outputs": [],
   "source": []
  },
  {
   "cell_type": "code",
   "execution_count": null,
   "id": "720372b5-6bfc-4604-8de4-33a585df33f1",
   "metadata": {},
   "outputs": [],
   "source": []
  },
  {
   "cell_type": "code",
   "execution_count": null,
   "id": "658d7265-2a6d-46a3-bcc5-edf8b4886570",
   "metadata": {},
   "outputs": [],
   "source": [
    "# Data point to predict\n",
    "penguin = [\n",
    "    42,  # bill_length_mm\n",
    "    18,  # bill_depth_mm\n",
    "    195,  # flipper_length_mm\n",
    "    4100,  # body_mass_g\n",
    "    1,  # island_Biscoe\n",
    "    0,  # island_Dream\n",
    "    0,  # island_Torgersen\n",
    "    0,  # sex_FEMALE\n",
    "    1,  # sex_MALE\n",
    "]\n",
    "# Make prediction\n",
    "model.predict([penguin])\n",
    "\n",
    "# OUTPUT: Adelie"
   ]
  }
 ],
 "metadata": {
  "kernelspec": {
   "display_name": "Python 3 (ipykernel)",
   "language": "python",
   "name": "python3"
  },
  "language_info": {
   "codemirror_mode": {
    "name": "ipython",
    "version": 3
   },
   "file_extension": ".py",
   "mimetype": "text/x-python",
   "name": "python",
   "nbconvert_exporter": "python",
   "pygments_lexer": "ipython3",
   "version": "3.9.16"
  }
 },
 "nbformat": 4,
 "nbformat_minor": 5
}
